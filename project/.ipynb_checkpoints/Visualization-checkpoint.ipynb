{
 "cells": [
  {
   "cell_type": "code",
   "execution_count": null,
   "metadata": {
    "collapsed": false
   },
   "outputs": [],
   "source": [
    "import matplotlib\n",
    "%matplotlib inline\n",
    "import matplotlib.pyplot as plt\n",
    "import seaborn # or alternatively plt.style.use('ggplot') for a similar look\n",
    "\n",
    "matplotlib.rc(\"figure\", figsize=(8,6))\n",
    "matplotlib.rc(\"axes\", labelsize=16, titlesize=16)\n",
    "matplotlib.rc(\"xtick\", labelsize=14)\n",
    "matplotlib.rc(\"ytick\", labelsize=14)\n",
    "matplotlib.rc(\"legend\", fontsize=14)\n",
    "matplotlib.rc(\"font\", size=14)"
   ]
  },
  {
   "cell_type": "code",
   "execution_count": null,
   "metadata": {
    "collapsed": true
   },
   "outputs": [],
   "source": [
    "import numpy as np\n",
    "import collections\n",
    "import pandas as pd"
   ]
  },
  {
   "cell_type": "markdown",
   "metadata": {},
   "source": [
    "## Bar Charts"
   ]
  },
  {
   "cell_type": "code",
   "execution_count": null,
   "metadata": {
    "collapsed": false
   },
   "outputs": [],
   "source": [
    "data = np.random.permutation(np.array([\"dog\"]*10 + [\"cat\"]*7 + [\"rabbit\"]*3))\n",
    "counts = collections.Counter(data)\n",
    "plt.bar(range(len(counts)), counts.values())\n",
    "plt.xticks(np.arange(len(counts))+0.4, counts.keys());\n",
    "plt.ylabel(\"Count\")\n",
    "plt.xlabel(\"Animal\");\n",
    "plt.savefig(\"barchart.pdf\")"
   ]
  },
  {
   "cell_type": "markdown",
   "metadata": {},
   "source": [
    "## Pie Charts"
   ]
  },
  {
   "cell_type": "code",
   "execution_count": null,
   "metadata": {
    "collapsed": false
   },
   "outputs": [],
   "source": [
    "plt.pie(counts.values(), labels=counts.keys(), autopct='%1.1f%%', \n",
    "        colors=[\"yellowgreen\", \"lightskyblue\", \"gold\"])\n",
    "plt.axis('equal');\n",
    "plt.savefig(\"piechart.pdf\")"
   ]
  },
  {
   "cell_type": "markdown",
   "metadata": {},
   "source": [
    "## Histograms"
   ]
  },
  {
   "cell_type": "code",
   "execution_count": null,
   "metadata": {
    "collapsed": false
   },
   "outputs": [],
   "source": [
    "data = np.random.randn(10000)\n",
    "plt.hist(data, bins=50);\n",
    "plt.xlabel(\"Value\")\n",
    "plt.ylabel(\"Count\")\n",
    "plt.savefig(\"histogram.pdf\")"
   ]
  },
  {
   "cell_type": "markdown",
   "metadata": {},
   "source": [
    "## Scatter plot"
   ]
  },
  {
   "cell_type": "code",
   "execution_count": null,
   "metadata": {
    "collapsed": false
   },
   "outputs": [],
   "source": [
    "x = np.random.randn(1000)\n",
    "y = 0.4*x**2 + x + 0.7*np.random.randn(1000)\n",
    "plt.plot(x,y,'.')\n",
    "plt.xlabel(\"Value 1\")\n",
    "plt.ylabel(\"Value 2\")\n",
    "plt.savefig(\"scatter.pdf\")"
   ]
  },
  {
   "cell_type": "markdown",
   "metadata": {},
   "source": [
    "## Line plot"
   ]
  },
  {
   "cell_type": "code",
   "execution_count": null,
   "metadata": {
    "collapsed": false
   },
   "outputs": [],
   "source": [
    "x = np.linspace(0,10,1000)\n",
    "y = np.cumsum(0.01*np.random.randn(1000))\n",
    "plt.plot(x,y,'-')\n",
    "plt.xlabel(\"Time\")\n",
    "plt.ylabel(\"Value\")\n",
    "plt.savefig(\"line.pdf\")"
   ]
  },
  {
   "cell_type": "markdown",
   "metadata": {},
   "source": [
    "## Box and whisker plot"
   ]
  },
  {
   "cell_type": "code",
   "execution_count": null,
   "metadata": {
    "collapsed": false
   },
   "outputs": [],
   "source": [
    "category = np.random.choice(['dog','cat','rabbit'], 2000, p=[0.5,0.3,0.2])\n",
    "weights = np.zeros_like(category, dtype=np.float64)\n",
    "weights[category==\"dog\"] = 30 + 5*np.random.randn(np.sum(category==\"dog\"))\n",
    "weights[category==\"cat\"] = 18 + 3*np.random.randn(np.sum(category==\"cat\"))\n",
    "weights[category==\"rabbit\"] = 16 + 4*np.random.randn(np.sum(category==\"rabbit\"))\n",
    "\n",
    "labels = collections.Counter(category).keys()\n",
    "data = [weights[category==l] for l in labels]\n",
    "# seaborn doesn't capture the plt.boxplot command\n",
    "seaborn.boxplot(data, whis=[1,99], showfliers=True);\n",
    "plt.xticks(np.arange(len(labels))+1, labels);\n",
    "plt.ylabel(\"Weight\")\n",
    "plt.xlabel(\"Animal\")\n",
    "plt.savefig(\"boxplot.pdf\")"
   ]
  },
  {
   "cell_type": "markdown",
   "metadata": {},
   "source": [
    "## Heatmap (2D histogram version)"
   ]
  },
  {
   "cell_type": "code",
   "execution_count": null,
   "metadata": {
    "collapsed": false
   },
   "outputs": [],
   "source": [
    "x = np.random.randn(100000)\n",
    "y = 0.4*x**2 + x + 0.7*np.random.randn(100000)\n",
    "plt.hist2d(x, y, bins=100);\n",
    "plt.set_cmap(plt.cm.get_cmap('hot'))\n",
    "plt.grid(False)\n",
    "plt.ylim([-3,8])\n",
    "plt.xlabel(\"Value 1\")\n",
    "plt.ylabel(\"Value 2\")\n",
    "plt.savefig(\"hist2d.pdf\")"
   ]
  },
  {
   "cell_type": "markdown",
   "metadata": {},
   "source": [
    "## Heatmap (matrix version)"
   ]
  },
  {
   "cell_type": "code",
   "execution_count": null,
   "metadata": {
    "collapsed": false
   },
   "outputs": [],
   "source": [
    "category2 = np.zeros_like(category)\n",
    "category2[category==\"dog\"] = np.random.choice(['dog','cat','rabbit'], np.sum(category==\"dog\"), p=[0.8,0.05,0.15])\n",
    "category2[category==\"cat\"] = np.random.choice(['dog','cat','rabbit'], np.sum(category==\"cat\"), p=[0.2,0.6,0.2])\n",
    "category2[category==\"rabbit\"] = np.random.choice(['dog','cat','rabbit'], np.sum(category==\"rabbit\"), p=[0.4,0.4,0.2])\n",
    "\n",
    "counter = collections.Counter(zip(category, category2))\n",
    "labels = collections.Counter(category).keys()\n",
    "M = np.array([[float(counter[(i,j)]) for i in labels] for j in labels])\n",
    "M = M / np.sum(M,axis=1)[:,None]\n",
    "plt.imshow(M, interpolation=\"Nearest\", cmap=\"hot\", vmax=1, vmin=0)\n",
    "plt.grid(False)\n",
    "\n",
    "plt.xticks(np.arange(len(labels)), labels);\n",
    "plt.yticks(np.arange(len(labels)), labels);\n",
    "plt.xlabel(\"Second Pet\")\n",
    "plt.ylabel(\"First Pet\")\n",
    "plt.axes().xaxis.tick_top()\n",
    "plt.axes().xaxis.set_label_position(\"top\")\n",
    "plt.savefig(\"heatmap.pdf\")"
   ]
  },
  {
   "cell_type": "markdown",
   "metadata": {},
   "source": [
    "## Scatter Matrix"
   ]
  },
  {
   "cell_type": "code",
   "execution_count": null,
   "metadata": {
    "collapsed": false
   },
   "outputs": [],
   "source": [
    "x = np.random.randn(1000)\n",
    "y = 0.4*x**2 + x + 0.7*np.random.randn(1000)\n",
    "z = 0.5 + 0.2*(y-1)**2 + 0.1*np.random.randn(1000)\n",
    "df = pd.DataFrame(np.array([x,y,z]).T)\n",
    "seaborn.pairplot(df);\n",
    "plt.savefig(\"scatter_matrix.pdf\")"
   ]
  },
  {
   "cell_type": "markdown",
   "metadata": {},
   "source": [
    "## Bubble chart"
   ]
  },
  {
   "cell_type": "code",
   "execution_count": null,
   "metadata": {
    "collapsed": false
   },
   "outputs": [],
   "source": [
    "plt.scatter(x, y, s=z*20, color=seaborn.color_palette()[0])\n",
    "plt.xlabel(\"Value 1\")\n",
    "plt.ylabel(\"Value 2\")\n",
    "plt.savefig(\"bubble.pdf\")"
   ]
  },
  {
   "cell_type": "markdown",
   "metadata": {},
   "source": [
    "## Color scatter plot"
   ]
  },
  {
   "cell_type": "code",
   "execution_count": null,
   "metadata": {
    "collapsed": false
   },
   "outputs": [],
   "source": [
    "xy1 = np.random.randn(1000,2).dot(np.random.randn(2,2)) + np.random.randn(2)\n",
    "xy2 = np.random.randn(1000,2).dot(np.random.randn(2,2)) + np.random.randn(2)\n",
    "\n",
    "plt.scatter(xy1[:,0], xy1[:,1], color=seaborn.color_palette()[0])\n",
    "plt.axes().scatter(xy2[:,0], xy2[:,1], color=seaborn.color_palette()[1])\n",
    "plt.xlabel(\"Value 1\")\n",
    "plt.ylabel(\"Value 2\")\n",
    "plt.legend([\"Class 1\", \"Class 2\"])\n",
    "plt.savefig(\"scatter_color.pdf\")"
   ]
  },
  {
   "cell_type": "code",
   "execution_count": null,
   "metadata": {
    "collapsed": false
   },
   "outputs": [],
   "source": [
    "%matplotlib notebook\n",
    "from mpl_toolkits.mplot3d import Axes3D\n",
    "fig = plt.figure()\n",
    "ax = fig.add_subplot(111, projection='3d')\n",
    "ax.plot3D(x,y,z, '.')\n",
    "ax.set_xlabel(\"Value 1\")\n",
    "ax.set_ylabel(\"Value 2\")\n",
    "ax.set_zlabel(\"Value 3\");"
   ]
  }
 ],
 "metadata": {
  "anaconda-cloud": {},
  "kernelspec": {
   "display_name": "Python [default]",
   "language": "python",
   "name": "python2"
  },
  "language_info": {
   "codemirror_mode": {
    "name": "ipython",
    "version": 2
   },
   "file_extension": ".py",
   "mimetype": "text/x-python",
   "name": "python",
   "nbconvert_exporter": "python",
   "pygments_lexer": "ipython2",
   "version": "2.7.12"
  }
 },
 "nbformat": 4,
 "nbformat_minor": 1
}
