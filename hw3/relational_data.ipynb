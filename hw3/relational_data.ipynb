{
 "cells": [
  {
   "cell_type": "code",
   "execution_count": 5,
   "metadata": {
    "collapsed": false
   },
   "outputs": [],
   "source": [
    "import csv\n",
    "import sqlite3\n",
    "import pandas as pd\n",
    "import math\n",
    "import numpy as np\n",
    "# Use svg backend for better quality\n",
    "import matplotlib\n",
    "# AUTOLAB_IGNORE_START\n",
    "matplotlib.use(\"svg\")\n",
    "# AUTOLAB_IGNORE_STOP\n",
    "import matplotlib.pyplot as plt\n",
    "# AUTOLAB_IGNORE_START\n",
    "%matplotlib inline\n",
    "plt.style.use('ggplot')\n",
    "matplotlib.rcParams['figure.figsize'] = (10.0, 5.0) # you should adjust this to fit your screen\n",
    "# AUTOLAB_IGNORE_STOP"
   ]
  },
  {
   "cell_type": "markdown",
   "metadata": {},
   "source": [
    "# Relational Data and Visualization [30pts]\n",
    "In this problem, you will be analyzing the Twitter data we extracted using [this](https://dev.twitter.com/overview/api) api. The data consists of Twitter users (with unique handles) and their attributes (e.g., number of followers), some recent tweets posted by them with attributes (e.g., time stamp, number of retweets), and the follow relationship between the users. These are available in the three CSV files provided to you:\n",
    "- users.csv - users, user attributes\n",
    "- edges.csv - follow edges (directed, an edge from A to B means A follows B or B is a friend of A)\n",
    "- tweets.csv - tweets posted by the users along with its attributes"
   ]
  },
  {
   "cell_type": "markdown",
   "metadata": {},
   "source": [
    "## Q1. Relational Data [5pts + 6pts + 6pts]\n",
    "This question will guide you through loading Twitter data into an in-memory SQLite database and running some basic queries on it."
   ]
  },
  {
   "cell_type": "markdown",
   "metadata": {},
   "source": [
    "### Q1. Task A: Load Twitter data into SQLite database [5pts]\n",
    "Your first task is to use the csv and sqlite3 python packages to load the three csv files we give you as relations (or tables) into an SQLite in-memory database.\n",
    "\n",
    "Loading the data from csv file into the database involves the following steps:\n",
    "1. Identify the schema of the table (for this problem, you will only need TEXT and INTEGER attribute types)\n",
    "2. Create a table with the identified schema\n",
    "3. Load the contents of csv in memory\n",
    "4. Insert every row of csv file as a record in the table\n",
    "\n",
    "You can refer to [sqlite3 documentation](https://docs.python.org/2/library/sqlite3.html) and the class lecture for steps 2 and 4. For step 3, refer to the [csv documentation](https://docs.python.org/2/library/csv.html). Be sure to name your tables `users`, `edges`, and `tweets`. \n",
    "\n",
    "Make sure to commit (the equivalent of Ctrl+S for databases) any changes you make to the database. [This](https://www.techopedia.com/definition/16/commit) page should give you an idea about why commit is essential."
   ]
  },
  {
   "cell_type": "code",
   "execution_count": 123,
   "metadata": {
    "collapsed": false
   },
   "outputs": [],
   "source": [
    "def load_twitter_data_sqlite3(conn, users_filepath, edges_filepath, tweets_filepath) :\n",
    "    \"\"\" Load twitter data in the three files as tables into an in-memory SQLite database\n",
    "    Input:\n",
    "        conn (sqlite3.Connection) : Connection object corresponding to the database; used to perform SQL commands.\n",
    "        users_filepath (str) : absolute/relative path to users.csv file\n",
    "        edges_filepath (str) : absolute/relative path to edges.csv file\n",
    "        tweets_filepath (str) : absolute/relative path to tweets.csv file\n",
    "    Output:\n",
    "        None\n",
    "    \"\"\"\n",
    "    cursor = conn.cursor()\n",
    "    cursor.execute(\"\"\"\n",
    "    CREATE TABLE users (\n",
    "    name TEXT,\n",
    "    screen_name TEXT,\n",
    "    location TEXT,\n",
    "    created_at TEXT,\n",
    "    friends_count INTEGER,\n",
    "    followers_count INTEGER,\n",
    "    statuses_count INTEGER,\n",
    "    favourites_count INTEGER\n",
    "    )\"\"\"    )\n",
    "    with open(users_filepath,'rb') as fin: # `with` statement available in 2.5+\n",
    "    # csv.DictReader uses first line in file for column headings by default\n",
    "        dr = csv.DictReader(fin) # comma is default delimiter\n",
    "        to_db = [(i['name'], i['screen_name'], i['location'], i['created_at'], i['friends_count'], i['followers_count'], i['statuses_count'], i['favourites_count']) for i in dr]\n",
    "    #print to_db\n",
    "    cursor.executemany(\"INSERT INTO users (name,screen_name,location,created_at,friends_count,followers_count,statuses_count,favourites_count) VALUES (?, ?,?, ?,?, ?,?, ?);\", to_db)\n",
    "    conn.commit()\n",
    "    \n",
    "    cursor.execute(\"\"\"\n",
    "    CREATE TABLE edges (\n",
    "    screen_name TEXT,\n",
    "    friend TEXT\n",
    "    )\"\"\"    )\n",
    "    with open(edges_filepath,'rb') as fin: # `with` statement available in 2.5+\n",
    "    # csv.DictReader uses first line in file for column headings by default\n",
    "        dr = csv.DictReader(fin) # comma is default delimiter\n",
    "        to_db = [(i['screen_name'], i['friend']) for i in dr]\n",
    "    #print to_db\n",
    "    cursor.executemany(\"INSERT INTO edges (screen_name,friend) VALUES (?, ?);\", to_db)\n",
    "    conn.commit()\n",
    "    \n",
    "    cursor.execute(\"\"\"\n",
    "    CREATE TABLE tweets (\n",
    "    screen_name TEXT,\n",
    "    created_at TEXT,\n",
    "    retweet_count INTEGER,\n",
    "    favorite_count INTEGER,\n",
    "    text TEXT\n",
    "    )\"\"\"    )\n",
    "    with open(tweets_filepath,'rb') as fin: # `with` statement available in 2.5+\n",
    "    # csv.DictReader uses first line in file for column headings by default\n",
    "        dr = csv.DictReader(fin) # comma is default delimiter\n",
    "        to_db = [(i['screen_name'], i['created_at'], i['retweet_count'], i['favorite_count'], i['text']) for i in dr]\n",
    "    #print to_db\n",
    "    cursor.executemany(\"INSERT INTO tweets (screen_name,created_at,retweet_count,favorite_count,text) VALUES (?, ?,?, ?,?);\", to_db)\n",
    "    conn.commit()\n",
    "    #conn.close()\n",
    "    pass\n",
    "    \n"
   ]
  },
  {
   "cell_type": "markdown",
   "metadata": {},
   "source": [
    "Your function will be called as in the cell below. The cell also contains some test code to display all tables in the database. You may want to write you own tests for the individual tables to verify that the data has been loaded properly. (e.g., number of tuples in each table)"
   ]
  },
  {
   "cell_type": "code",
   "execution_count": 124,
   "metadata": {
    "collapsed": false
   },
   "outputs": [
    {
     "name": "stdout",
     "output_type": "stream",
     "text": [
      "('users',)\n",
      "('edges',)\n",
      "('tweets',)\n"
     ]
    }
   ],
   "source": [
    "# AUTOLAB_IGNORE_START\n",
    "# connect to an in memory database\n",
    "conn = sqlite3.connect(\":memory:\")\n",
    "conn.text_factory = str\n",
    "# call to your function\n",
    "load_twitter_data_sqlite3(conn, 'users.csv', 'edges.csv', 'tweets.csv')\n",
    "# make sure to change the path to csv files appropriately\n",
    "cursor = conn.cursor()\n",
    "# prints all tables in the database\n",
    "#for row in cursor.execute(\"SELECT * FROM users;\"):\n",
    "    #print row\n",
    "for row in cursor.execute(\"SELECT name FROM sqlite_master WHERE type = 'table';\"):\n",
    "    print row\n",
    "# AUTOLAB_IGNORE_STOP"
   ]
  },
  {
   "cell_type": "markdown",
   "metadata": {},
   "source": [
    "### Q1. Task B: Trending tweets in a topic [6pts]\n",
    "Twitter is regarded as an invaluable source of valuable information. Hence, one of the favorite tasks of data miners is the analyse the trending tweets in a given topic.\n",
    "\n",
    "This task requires you to retrieve the top N most trending tweets (in descending order of trending_score) about a given topic (which is a list of keywords). The following information may be useful:\n",
    "\n",
    "- A tweet is said to be about a given topic if it contains any of the given topical phrases/keywords.\n",
    "- We will use the following simple trending_score: retweet_count + favorite_count. Tweets with higher trending_score must be ranked before the ones with lower trending_score.\n",
    "- Your result must contain unique tweets. If a tweet text occurs multiple times, display it only once with its highest trending_score.\n",
    "- Break ties by sorting the tweets in alphabetical order.\n",
    "\n",
    "The output schema should be as follows:\n",
    "\n",
    "|tweet (TEXT)| trending_score (INTEGER) |\n",
    "| :--- |:--- |\n",
    "| | |"
   ]
  },
  {
   "cell_type": "code",
   "execution_count": 118,
   "metadata": {
    "collapsed": true
   },
   "outputs": [],
   "source": [
    "def trending_tweets(cursor, topical_phrases=['Hillary', 'Clinton'], N=5):\n",
    "    \"\"\" Retrieves the top N trending tweets containing one or more of the given topical phrases.\n",
    "    Input:\n",
    "        cursor (sqlite3.Cursor): Cursor object to query the database.\n",
    "        topical_phrases (list of strings): A list of keywords identifying a topic.\n",
    "        N: Number of trending tweets to retrieve\n",
    "    Output:\n",
    "        results (sqlite3.Cursor): Cursor object which can be used to iterate over the retrieved records/tuples.\n",
    "    \"\"\"\n",
    "    #cursor.execute(\"CREATE VIRTUAL TABLE TweetSearch USING fts4(text, retweet_count,favorite_count);\")\n",
    "    #cursor.execute(\"INSERT INTO TweetSearch SELECT text, retweet_count,favorite_count FROM tweets;\")\n",
    "    query = \"SELECT text AS tweet, MAX(retweet_count+favorite_count) AS trending_score FROM tweets WHERE \"\n",
    "    for p in topical_phrases:\n",
    "        query+=\"text like '%\" + p + \"%' or \"\n",
    "    #text like '%Hillary%' or text like '%Clinton%' \n",
    "    query = query[:len(query)-3]\n",
    "    query+= \"GROUP BY text ORDER BY trending_score DESC, text ASC LIMIT \"+str(N) # your query here\n",
    "    #print query\n",
    "    results = cursor.execute(query)\n",
    "    return results"
   ]
  },
  {
   "cell_type": "markdown",
   "metadata": {},
   "source": [
    "The default inputs to the function will retrieve 5 trending tweets about topic Hillary Clinton. You can view the output of your query using the following code."
   ]
  },
  {
   "cell_type": "code",
   "execution_count": 119,
   "metadata": {
    "collapsed": false
   },
   "outputs": [
    {
     "name": "stdout",
     "output_type": "stream",
     "text": [
      "(\"Hillary just gave a disastrous news conference on the tarmac to make up for poor performance last night. She's being decimated by the media!\", 37903)\n",
      "('\"A rough night for Hillary Clinton\"  ABC News.', 34418)\n",
      "('Hillary Clinton answered email questions differently last night than she has in the past. She is totally confused. Unfit to serve as #POTUS.', 32843)\n",
      "(\"'Donald Trump leads Hillary Clinton by 19 points among military, veteran voters: poll' #AmericaFirst #MAGA\\nhttps://t.co/5FmxGtLkwt\", 29538)\n",
      "(\"It wasn't Matt Lauer that hurt Hillary last night. It was her very dumb answer about emails &amp; the veteran who said she should be in jail.\", 24414)\n"
     ]
    }
   ],
   "source": [
    "# AUTOLAB_IGNORE_START\n",
    "results = trending_tweets(conn.cursor())\n",
    "for row in results:\n",
    "    print row\n",
    "# AUTOLAB_IGNORE_STOP"
   ]
  },
  {
   "cell_type": "markdown",
   "metadata": {},
   "source": [
    "### Q1. Task C: Tweet recommendation [6pts]\n",
    "How does Twitter go about populating the feed for a user? While Twitter may use a comple models to do this, in this task, we will use a Simple Tweet Recommender (STR), which recommends a user's tweets to all users who follow him/her (without checking for possible duplicates; i.e., STR may recommend the same tweet twice if two of a user's friends have posted it).\n",
    "\n",
    "In this task, you will write a query to determine the number of tweets recommended to each user. Use only the snapshot of edges and tweets we have provided to you to do the recommendation. Report the results on the users present in the users table. (Hint: The number of records in your output should match that in the \"users\" table.) The order of results does not matter.\n",
    "\n",
    "The output schema should be:\n",
    "\n",
    "|screen_name (TEXT)| num_tweets (INTEGER) |\n",
    "| :--- |:--- |\n",
    "| | | |\n"
   ]
  },
  {
   "cell_type": "code",
   "execution_count": 178,
   "metadata": {
    "collapsed": false
   },
   "outputs": [],
   "source": [
    "def num_tweets_in_feed(cursor):\n",
    "    \"\"\" Retrieves the number of tweets STR recommends to each Twitter user.\n",
    "    Input:\n",
    "        cursor (sqlite3.Cursor): Cursor object to query the database.\n",
    "    Output:\n",
    "        results (sqlite3.Cursor): Cursor object which can be used to iterate over the retrieved records/tuples.\n",
    "    \"\"\"\n",
    "    #query = \"SELECT screen_name, friend FROM edges \"# your query here WHERE screen_name == (SELECT screen_name FROM users)\n",
    "    query = \"\"\"\n",
    "    SELECT users.screen_name AS screen_name,\n",
    "            (SELECT COUNT(*) FROM edges,tweets \n",
    "            WHERE users.screen_name = edges.screen_name AND edges.friend = tweets.screen_name) \n",
    "            AS num_tweets\n",
    "    FROM users  \n",
    "        \n",
    "    \"\"\"\n",
    "    return cursor.execute(query)\n",
    "\n",
    "# AUTOLAB_IGNORE_START\n",
    "results = num_tweets_in_feed(conn.cursor())\n",
    "# i = 0\n",
    "#for row in results:\n",
    "#    if row[1]==0:\n",
    "#        print row\n",
    "#     if i>20:\n",
    "#         break\n",
    "#     i += 1\n",
    "# AUTOLAB_IGNORE_STOP"
   ]
  },
  {
   "cell_type": "markdown",
   "metadata": {},
   "source": [
    "## Q2. Visualization [2pts + 7pts + 4pts]\n",
    "In this question, you will load all data into pandas dataframes and analyse (and visualize!) some interesting trends using [matplotlib](http://matplotlib.org) python package."
   ]
  },
  {
   "cell_type": "markdown",
   "metadata": {},
   "source": [
    "### Q2. Task A: Load Twitter data using pandas [2pts]\n",
    "Fill in the following method stub and return the data frames for users, edges and tweets.\n",
    "\n",
    "Pandas will treat missing values as NaNs by default. However, for this assignment, you should treat missing values (i.e., empty strings in the csv files) as empty strings."
   ]
  },
  {
   "cell_type": "code",
   "execution_count": 6,
   "metadata": {
    "collapsed": true
   },
   "outputs": [],
   "source": [
    "def load_twitter_data_pandas(users_filepath, edges_filepath, tweets_filepath):\n",
    "    \"\"\" Loads the Twitter data from the csv files into Pandas dataframes\n",
    "    Input:\n",
    "        users_filepath (str) : absolute/relative path to users.csv file\n",
    "        edges_filepath (str) : absolute/relative path to edges.csv file\n",
    "        tweets_filepath (str) : absolute/relative path to tweets.csv file\n",
    "    Output:\n",
    "        (pd.DataFrame, pd.DataFrame, pd.DataFrame) : A tuple of three dataframes, the first one for users,\n",
    "                                                    the second for edges and the third for tweets.\n",
    "    \"\"\"\n",
    "    users = pd.read_csv(users_filepath)\n",
    "    edges = pd.read_csv(edges_filepath)\n",
    "    tweets = pd.read_csv(tweets_filepath)\n",
    "    return users.replace(np.nan,''),edges.replace(np.nan,''),tweets.replace(np.nan,'')\n",
    "    pass\n"
   ]
  },
  {
   "cell_type": "markdown",
   "metadata": {},
   "source": [
    "You can test your function using the following code."
   ]
  },
  {
   "cell_type": "code",
   "execution_count": 7,
   "metadata": {
    "collapsed": false
   },
   "outputs": [
    {
     "name": "stdout",
     "output_type": "stream",
     "text": [
      "                 name      screen_name      location  \\\n",
      "0     Donald J. Trump  realDonaldTrump  New York, NY   \n",
      "1  Trump Organization            Trump  New York, NY   \n",
      "2          Trump Golf        TrumpGolf                 \n",
      "3       Tiffany Trump    TiffanyATrump                 \n",
      "4      Laura Ingraham    IngrahamAngle            DC   \n",
      "\n",
      "                       created_at  friends_count  followers_count  \\\n",
      "0  Wed Mar 18 13:46:38 +0000 2009             42         11397769   \n",
      "1  Wed Apr 13 16:51:54 +0000 2016             35             9954   \n",
      "2  Mon Feb 03 13:46:03 +0000 2014            200             8797   \n",
      "3  Tue Feb 01 20:59:30 +0000 2011             79            63138   \n",
      "4  Thu Jun 25 21:03:25 +0000 2009            289           851876   \n",
      "\n",
      "   statuses_count  favourites_count  \n",
      "0           33136                38  \n",
      "1              43               125  \n",
      "2             758               251  \n",
      "3             573                28  \n",
      "4           26523                71  \n",
      "       screen_name         friend\n",
      "0  realDonaldTrump          Trump\n",
      "1  realDonaldTrump      TrumpGolf\n",
      "2  realDonaldTrump  TiffanyATrump\n",
      "3  realDonaldTrump  IngrahamAngle\n",
      "4  realDonaldTrump     mike_pence\n",
      "       screen_name                      created_at  retweet_count  \\\n",
      "0  realDonaldTrump  Fri Sep 09 02:00:32 +0000 2016           2859   \n",
      "1  realDonaldTrump  Fri Sep 09 00:39:36 +0000 2016           6463   \n",
      "2  realDonaldTrump  Thu Sep 08 23:56:22 +0000 2016           5405   \n",
      "3  realDonaldTrump  Thu Sep 08 19:52:32 +0000 2016          11633   \n",
      "4  realDonaldTrump  Thu Sep 08 18:17:01 +0000 2016           3824   \n",
      "\n",
      "   favorite_count                                               text  \n",
      "0            7030  Final poll results from NBC on last nights Com...  \n",
      "1           17951  It wasn't Matt Lauer that hurt Hillary last ni...  \n",
      "2           13223  More poll results from last nights Commander-i...  \n",
      "3           27028  Last nights results - in poll taken by NBC. #A...  \n",
      "4           12567  With Luis, Mexico and the United States would ...  \n"
     ]
    }
   ],
   "source": [
    "# AUTOLAB_IGNORE_START\n",
    "(users_df, edges_df, tweets_df) = load_twitter_data_pandas('users.csv', 'edges.csv', 'tweets.csv')\n",
    "# make sure to change the path to csv files appropriately\n",
    "print users_df.head()\n",
    "print edges_df.head()\n",
    "print tweets_df.head()\n",
    "# AUTOLAB_IGNORE_STOP"
   ]
  },
  {
   "cell_type": "markdown",
   "metadata": {},
   "source": [
    "### Q2. Task B: Correlation [4pts + 3pts]\n",
    "Statisticians and data analysts usually like to study about correlation between different observed variables. This helps uncover interesting patterns in the data such as causal relationships (e.g., snow on the road leads to increase in number of accidents). Correlation studies are important for multiple reasons:\n",
    "- While [correlation does not imply causation](https://en.wikipedia.org/wiki/Correlation_does_not_imply_causation), a lack of correlation implies a lack of causation. This can be used to rule out many causal relationships.\n",
    "- Correlation helps with prediction. The more closely related two variables are, the easier it is to predict one from the other.\n",
    "\n",
    "In this task, we ask you to plot the friends_count (on y-axis) vs the followers_count (on x-axis) using the matplotlib package. [Here](http://matplotlib.org/examples/shapes_and_collections/scatter_demo.html) is an example to get started with scatter plots."
   ]
  },
  {
   "cell_type": "code",
   "execution_count": 13,
   "metadata": {
    "collapsed": false
   },
   "outputs": [
    {
     "name": "stdout",
     "output_type": "stream",
     "text": [
      "<matplotlib.collections.PathCollection object at 0x7f72be31bd50>\n"
     ]
    },
    {
     "data": {
      "image/png": "[encoded data removed]",
      "text/plain": [
       "<matplotlib.figure.Figure at 0x7f72be4218d0>"
      ]
     },
     "metadata": {},
     "output_type": "display_data"
    }
   ],
   "source": [
    "def plot_friends_vs_followers(users_df):\n",
    "    \"\"\" Plots the friends_count (on y-axis) against the followers_count (on x-axis).\n",
    "    Input:\n",
    "        users_df (pd.DataFrame) : Dataframe containing Twitter user attributes,\n",
    "                                    as returned by load_twitter_data_pandas()\n",
    "    Output:\n",
    "        (matplotlib.collections.PathCollection) : The object returned by the scatter plot function\n",
    "    \"\"\"\n",
    "    y = users_df['friends_count']\n",
    "    x= users_df['followers_count']\n",
    "    plt.xlabel(\"followers_count\")\n",
    "    plt.ylabel(\"friends_count\")\n",
    "    return plt.scatter(x,y)\n",
    "    \n",
    "    pass\n",
    "\n",
    "# AUTOLAB_IGNORE_START\n",
    "p = plot_friends_vs_followers(users_df)\n",
    "print p\n",
    "plt.show()\n",
    "# AUTOLAB_IGNORE_STOP"
   ]
  },
  {
   "cell_type": "markdown",
   "metadata": {},
   "source": [
    "Do you see a correlation between these two variables from your scatter plot? Let's measure this quantitatively using the [Pearson's correlation coefficient](https://en.wikipedia.org/wiki/Pearson_product-moment_correlation_coefficient). \n",
    "\n",
    "For a set of observations $(X,Y) = [(x_1,y_1), (x_2,y_2), ... , (x_n,y_n)]$, the Pearson's correlation coefficient is a measure of the linear dependence between two variables $X$ and $Y$, giving a value between +1 and −1 inclusive, where 1 is total positive correlation, 0 is no correlation, and −1 is total negative correlation.\n",
    "\n",
    "$r=r_{xy}={\\frac {n\\sum x_{i}y_{i}-\\sum x_{i}\\sum y_{i}}{{\\sqrt {n\\sum x_{i}^{2}-(\\sum x_{i})^{2}}}~{\\sqrt {n\\sum y_{i}^{2}-(\\sum y_{i})^{2}}}}}$\n",
    "\n",
    "Now, fill in the following function to compute the Pearson's correlation coefficient between friends_count and followers_count."
   ]
  },
  {
   "cell_type": "code",
   "execution_count": 38,
   "metadata": {
    "collapsed": false
   },
   "outputs": [
    {
     "name": "stdout",
     "output_type": "stream",
     "text": [
      "0.0930864051648\n"
     ]
    }
   ],
   "source": [
    "def correlation_coefficient(users_df):\n",
    "    \"\"\" Plots the friends_count (on y-axis) against the followers_count (on x-axis).\n",
    "    Input:\n",
    "        users_df (pd.DataFrame) : Dataframe containing Twitter user attributes,\n",
    "                                    as returned by load_twitter_data_pandas()\n",
    "    Output:\n",
    "        (double) : correlation coefficient between friends_count and followers_count\n",
    "    \"\"\"\n",
    "    y = users_df['friends_count']\n",
    "    x= users_df['followers_count']\n",
    "    xySum = 0\n",
    "    xSum = 0 \n",
    "    ySum = 0\n",
    "    xSquareSum = 0\n",
    "    ySquareSum = 0\n",
    "    for i in xrange(len(x)):\n",
    "        #print x[i],y[i]\n",
    "        xySum += x[i]*y[i]\n",
    "        \n",
    "        xSum += x[i]\n",
    "        ySum += y[i]\n",
    "        xSquareSum += x[i]*x[i]\n",
    "        ySquareSum += y[i]*y[i]\n",
    "    xSum = float(xSum)\n",
    "    ySum = float(ySum)\n",
    "    xySum = float(xySum)\n",
    "    xSquareSum = float(xSquareSum)\n",
    "    ySquareSum = float(ySquareSum)\n",
    "    return (float(len(x))*xySum-xSum*ySum)/(math.sqrt(float(len(x))*xSquareSum-xSum*xSum)*math.sqrt(float(len(x))*ySquareSum-ySum*ySum))\n",
    "    pass\n",
    "# AUTOLAB_IGNORE_START\n",
    "print correlation_coefficient(users_df)\n",
    "# AUTOLAB_IGNORE_STOP"
   ]
  },
  {
   "cell_type": "markdown",
   "metadata": {},
   "source": [
    "### Q2. Task C: Degree distribution [4pts]\n",
    "If you are not familiar with graph theory and/or graph mining, skip the first paragraph.\n",
    "\n",
    "As you're familiar with graphs, you might know that the degree of a node is the number of connections it has to other nodes. A common statistic to look out for in the case of real world graphs is the degree distribution. Literature says degrees of nodes in real world graphs follow a [power law distribution](https://en.wikipedia.org/wiki/Power_law). The implication is that a scatter plot of num_users versus k (as we will define below) yields an almost straight line. In this task, we shall verify whether the given crawl of Twitter network satisfies this property.\n",
    "\n",
    "Let us call the number of friends a Twitter user has as his/her degree. The degree distribution is a histogram of the number of friends. Your task is to visualize this histogram. Use the default number of bins."
   ]
  },
  {
   "cell_type": "code",
   "execution_count": 46,
   "metadata": {
    "collapsed": false
   },
   "outputs": [
    {
     "data": {
      "text/plain": [
       "(array([   2.,    6.,    2.,    5.,    4.,    4.,    3.,    1.,    4.,  148.]),\n",
       " array([   2. ,   11.8,   21.6,   31.4,   41.2,   51. ,   60.8,   70.6,\n",
       "          80.4,   90.2,  100. ]),\n",
       " <a list of 10 Patch objects>)"
      ]
     },
     "execution_count": 46,
     "metadata": {},
     "output_type": "execute_result"
    },
    {
     "data": {
      "image/png": "[encoded data removed]",
      "text/plain": [
       "<matplotlib.figure.Figure at 0x7f72bb5bb4d0>"
      ]
     },
     "metadata": {},
     "output_type": "display_data"
    }
   ],
   "source": [
    "def degree_distribution(edges_df):\n",
    "    \"\"\" Plots the distribution of .\n",
    "    Input:\n",
    "        edges_df (pd.DataFrame) : Dataframe containing Twitter edges,\n",
    "                        as returned by load_twitter_data_pandas()\n",
    "    Output:\n",
    "        (array, array, list of Patch objects) : Tuple of the values of the histogram bins, \n",
    "                        the edges of the bins and the silent list of individual patches used to create the histogram.\n",
    "    \"\"\"\n",
    "    names = edges_df['screen_name'].unique().tolist()\n",
    "    values = []\n",
    "    for n in names:\n",
    "        values.append(len(edges_df[edges_df['screen_name']==n])) \n",
    "    n,bins, patches = plt.hist(values);\n",
    "    plt.xlabel(\"Value\")\n",
    "    plt.ylabel(\"Count\")\n",
    "    return n,bins, patches\n",
    "    pass\n",
    "\n",
    "# AUTOLAB_IGNORE_START\n",
    "degree_distribution(edges_df)\n",
    "# AUTOLAB_IGNORE_STOP"
   ]
  },
  {
   "cell_type": "markdown",
   "metadata": {},
   "source": [
    "Do you notice any surprising/unexpected pattern? What can you say about the way in which the Twitter data was collected?"
   ]
  },
  {
   "cell_type": "code",
   "execution_count": null,
   "metadata": {
    "collapsed": false
   },
   "outputs": [],
   "source": []
  }
 ],
 "metadata": {
  "anaconda-cloud": {},
  "kernelspec": {
   "display_name": "Python [Root]",
   "language": "python",
   "name": "Python [Root]"
  },
  "language_info": {
   "codemirror_mode": {
    "name": "ipython",
    "version": 2
   },
   "file_extension": ".py",
   "mimetype": "text/x-python",
   "name": "python",
   "nbconvert_exporter": "python",
   "pygments_lexer": "ipython2",
   "version": "2.7.12"
  }
 },
 "nbformat": 4,
 "nbformat_minor": 0
}
