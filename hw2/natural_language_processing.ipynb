{
 "cells": [
  {
   "cell_type": "markdown",
   "metadata": {},
   "source": [
    "# Natural Language Processing (688 only) [35pts]\n",
    "## Introduction\n",
    "\n",
    "In this problem you will develop two techniques for analyzing free text documents: a bag of words approach based upon creating a TFIDF matrix, and an n-gram language model.\n",
    "\n",
    "You'll be applying your models to the text from the Federalist Papers.  The Federalist papers were a series of essay written in 1787 and 1788 by Alexander Hamilton, James Madison, and John Jay (they were published anonymously at the time), that promoted the ratification of the U.S. Constitution.  If you're curious, you can read more about them here: https://en.wikipedia.org/wiki/The_Federalist_Papers . They are a particularly interesting data set, because although the authorship of most of the essays has been long known since around the deaths of Hamilton and Madison, there was still some question about the authorship of certain articles into the 20th century.  You'll use document vectors and language models to do this analysis for yourself."
   ]
  },
  {
   "cell_type": "markdown",
   "metadata": {},
   "source": [
    "## The dataset\n",
    "\n",
    "You'll use a copy of the Federalist Papers downloaded from Project Guttenberg, available here: http://www.gutenberg.org/ebooks/18 .  Specifically, the \"pg18.txt\" file included with the homework is the raw text downloaded from Project Guttenberg.  To ensure that everyone starts with the exact same corpus, we are providing you the code to load and tokenize this document, as given below."
   ]
  },
  {
   "cell_type": "code",
   "execution_count": 1,
   "metadata": {
    "collapsed": false
   },
   "outputs": [],
   "source": [
    "import re\n",
    "\n",
    "def load_federalist_corpus(filename):\n",
    "    \"\"\" Load the federalist papers as a tokenized list of strings, one for each eassay\"\"\"\n",
    "    with open(filename, \"rt\") as f:\n",
    "        data = f.read()\n",
    "    papers = data.split(\"FEDERALIST\")\n",
    "    \n",
    "    # all start with \"To the people of the State of New York:\" (sometimes . instead of :)\n",
    "    # all end with PUBLIUS (or no end at all)\n",
    "    locations = [(i,[-1] + [m.end()+1 for m in re.finditer(r\"of the State of New York\", p)],\n",
    "                 [-1] + [m.start() for m in re.finditer(r\"PUBLIUS\", p)]) for i,p in enumerate(papers)]\n",
    "    papers_content = [papers[i][max(loc[1]):max(loc[2])] for i,loc in enumerate(locations)]\n",
    "\n",
    "    # discard entries that are not actually a paper\n",
    "    papers_content = [p for p in papers_content if len(p) > 0]\n",
    "\n",
    "    # replace all whitespace with a single space\n",
    "    papers_content = [re.sub(r\"\\s+\", \" \", p).lower() for p in papers_content]\n",
    "\n",
    "    # add spaces before all punctuation, so they are separate tokens\n",
    "    punctuation = set(re.findall(r\"[^\\w\\s]+\", \" \".join(papers_content))) - {\"-\",\"'\"}\n",
    "    for c in punctuation:\n",
    "        papers_content = [p.replace(c, \" \"+c+\" \") for p in papers_content]\n",
    "    papers_content = [re.sub(r\"\\s+\", \" \", p).lower().strip() for p in papers_content]\n",
    "    \n",
    "    authors = [tuple(re.findall(\"MADISON|JAY|HAMILTON\", a)) for a in papers]\n",
    "    authors = [a for a in authors if len(a) > 0]\n",
    "    \n",
    "    numbers = [re.search(r\"No\\. \\d+\", p).group(0) for p in papers if re.search(r\"No\\. \\d+\", p)]\n",
    "    \n",
    "    return papers_content, authors, numbers\n",
    "    \n",
    "    "
   ]
  },
  {
   "cell_type": "code",
   "execution_count": 3,
   "metadata": {
    "collapsed": false
   },
   "outputs": [
    {
     "name": "stdout",
     "output_type": "stream",
     "text": [
      "52\n"
     ]
    }
   ],
   "source": [
    "# AUTOLAB_IGNORE_START\n",
    "papers, authors, numbers = load_federalist_corpus(\"pg18.txt\")\n",
    "l_hanmilton=[]\n",
    "for x in xrange(len(papers)):\n",
    "    if authors[x][0]=='HAMILTON' and len(authors[x])==1:\n",
    "        l_hanmilton.append(papers[x])\n",
    "print len(l_hanmilton)\n",
    "#print papers\n",
    "# AUTOLAB_IGNORE_STOP"
   ]
  },
  {
   "cell_type": "markdown",
   "metadata": {},
   "source": [
    "You're welcome to dig through the code here if you're curious, but it's more important that you look at the objects that the function returns.  The `papers` object is a list of strings, each one containing the full content of one of the Federalist Papers.  All tokens (words) in the text are separated by a single space (this includes some puncutation tokens, which have been modified to include spaces both before and after the punctuation. The `authors` object is a list of lists, which each list contains the author (or potential authors) of a given paper.  Finally the `numbers` list just contains the number of each Federalist paper.  You won't need to use this last one, but you may be curious to compare the results of your textual analysis to the opinion of historians."
   ]
  },
  {
   "cell_type": "markdown",
   "metadata": {},
   "source": [
    "## Q1: Bag of words, and TFIDF [6+6pts]\n",
    "\n",
    "In this portion of the question, you'll use a bag of words model to describe the corpus, and write routines to build a TFIDF matrix and a cosine similarity function.  Specifically, you should first implement the TFIDF function below.  This should return a _sparse_ TFIDF matrix (as for the Graph Library assignment, make sure to directly create a sparse matrix using `scipy.sparse.coo_matrix()` rather than create a dense matrix and then convert it to be sparse).\n",
    "\n",
    "Important: make sure you do _not_ include the empty token `\"\"` as one of your terms. "
   ]
  },
  {
   "cell_type": "code",
   "execution_count": 9,
   "metadata": {
    "collapsed": false
   },
   "outputs": [],
   "source": [
    "import collections # optional, but we found the collections.Counter object useful\n",
    "import scipy.sparse as sp\n",
    "import numpy as np\n",
    "import re\n",
    "import string\n",
    "import math\n",
    "def tfidf(docs):\n",
    "    \"\"\"\n",
    "    Create TFIDF matrix.  This function creates a TFIDF matrix from the\n",
    "    docs input.\n",
    "\n",
    "    Args:\n",
    "        docs: list of strings, where each string represents a space-separated\n",
    "              document\n",
    "    \n",
    "    Returns: tuple: (tfidf, all_words)\n",
    "        tfidf: sparse matrix (in any scipy sparse format) of size (# docs) x\n",
    "               (# total unique words), where i,j entry is TFIDF score for \n",
    "               document i and term j\n",
    "        all_words: list of strings, where the ith element indicates the word\n",
    "                   that corresponds to the ith column in the TFIDF matrix\n",
    "    \"\"\"\n",
    "    all_words = []\n",
    "    data = []\n",
    "    row = []\n",
    "    col = []\n",
    "    rowcount = 0\n",
    "    listDic = []\n",
    "    for doc in docs:\n",
    "        \n",
    "        dic = collections.Counter(doc.split(\" \"))\n",
    "        listDic.append(dic)\n",
    "        #print dic\n",
    "        for key, value in dic.iteritems():\n",
    "            if key not in all_words:\n",
    "                all_words.append(key)\n",
    "                data.append(value)\n",
    "                col.append(len(all_words)-1)\n",
    "                row.append(rowcount)\n",
    "            else:\n",
    "                data.append(value)\n",
    "                col.append(all_words.index(key))\n",
    "                row.append(rowcount)\n",
    "        rowcount+=1\n",
    "   \n",
    "    tf = sp.coo_matrix((data, (row, col)), shape=(rowcount,len(all_words)))\n",
    "    idf=[]\n",
    "    numDoc = rowcount\n",
    "    for word in all_words:\n",
    "        docWithWord = 0\n",
    "        for dic in listDic:\n",
    "            if word in dic:\n",
    "                docWithWord+=1\n",
    "        \n",
    "        idf.append(math.log(float(numDoc)/float(docWithWord)))\n",
    "    index = 0\n",
    "    col2=[]\n",
    "    row2=[]\n",
    "    data2=[]\n",
    "    \n",
    "    for index in xrange(len(data)):\n",
    "        if idf[col[index]]!=0:\n",
    "            data2.append(data[index] * idf[col[index]])\n",
    "            row2.append(row[index])\n",
    "            col2.append(col[index])\n",
    "    tfidf = sp.coo_matrix((data2, (row2, col2)), shape=(rowcount,len(all_words)))\n",
    "    return tfidf,all_words\n",
    "### AUTOLAB_IGNORE_START\n",
    "    print idf\n",
    "    print all_words\n",
    "    print data\n",
    "    \n",
    "    print tf.todense()\n",
    "    print tfidf.todense()\n",
    "### AUTOLAB_IGNORE_STOP\n",
    "    pass"
   ]
  },
  {
   "cell_type": "code",
   "execution_count": null,
   "metadata": {
    "collapsed": true
   },
   "outputs": [],
   "source": []
  },
  {
   "cell_type": "markdown",
   "metadata": {},
   "source": [
    "Our version results the following result (just showing the type, size, and # of non-zero elements):\n",
    "\n",
    "    <86x8686 sparse matrix of type '<type 'numpy.float64'>'\n",
    "        with 57607 stored elements in Compressed Sparse Row format>\n",
    "     \n",
    "For testing, you can also run the algorithm on the following \"data set\" from class:"
   ]
  },
  {
   "cell_type": "code",
   "execution_count": 10,
   "metadata": {
    "collapsed": false
   },
   "outputs": [
    {
     "name": "stdout",
     "output_type": "stream",
     "text": [
      "[[ 1.09861229  1.09861229  1.09861229  0.          0.40546511  0.40546511\n",
      "   1.09861229  1.09861229  0.40546511  1.09861229  0.81093022  1.09861229\n",
      "   0.          0.          0.          0.          0.          0.          0.        ]\n",
      " [ 0.          0.          0.          0.          0.40546511  0.          0.\n",
      "   0.          0.          0.          0.40546511  0.          1.09861229\n",
      "   0.40546511  0.40546511  1.09861229  1.09861229  1.09861229  0.        ]\n",
      " [ 0.          0.          0.          0.          0.          0.40546511\n",
      "   0.          0.          0.40546511  0.          0.          0.          0.\n",
      "   0.40546511  0.40546511  0.          0.          0.          1.09861229]]\n",
      "['basics', 'goal', 'this', 'of', 'is', 'processing', 'free', 'to', 'text', 'lecture', 'the', 'explain', 'one', 'bag', 'words', 'such', 'approach', 'model', 'via']\n"
     ]
    }
   ],
   "source": [
    "### AUTOLAB_IGNORE_START\n",
    "data = [\n",
    "    \"the goal of this lecture is to explain the basics of free text processing\",\n",
    "    \"the bag of words model is one such approach\",\n",
    "    \"text processing via bag of words\"\n",
    "]\n",
    "\n",
    "X_tfidf, words = tfidf(data)\n",
    "print X_tfidf.todense()\n",
    "print words\n",
    "\n",
    "### AUTOLAB_IGNORE_STOP"
   ]
  },
  {
   "cell_type": "markdown",
   "metadata": {},
   "source": [
    "For our implementation, this returns the following output:\n",
    "\n",
    "    [[ 0.          0.          1.09861229  1.09861229  0.          1.09861229\n",
    "       0.          0.40546511  0.40546511  1.09861229  0.          1.09861229\n",
    "       0.          0.          0.40546511  1.09861229  0.81093022  0.\n",
    "       1.09861229]\n",
    "     [ 1.09861229  1.09861229  0.          0.          0.40546511  0.          0.\n",
    "       0.40546511  0.          0.          1.09861229  0.          0.\n",
    "       0.40546511  0.          0.          0.40546511  1.09861229  0.        ]\n",
    "     [ 0.          0.          0.          0.          0.40546511  0.          0.\n",
    "       0.          0.40546511  0.          0.          0.          1.09861229\n",
    "       0.40546511  0.40546511  0.          0.          0.          0.        ]]\n",
    "    ['model', 'such', 'basics', 'goal', 'bag', 'this', 'of', 'is', 'processing', 'free', 'one', 'to', 'via', 'words', 'text', 'lecture', 'the', 'approach', 'explain']"
   ]
  },
  {
   "cell_type": "markdown",
   "metadata": {},
   "source": [
    "Next, implement the following simply function that takes the X_tfidf matrix (though it could also take simple term frequency matrices, etc), and compute a matrix of all pair-wise cosine similarities."
   ]
  },
  {
   "cell_type": "code",
   "execution_count": 68,
   "metadata": {
    "collapsed": false
   },
   "outputs": [],
   "source": [
    "import numpy\n",
    "def cosine_similarity(X):\n",
    "    \"\"\"\n",
    "    Return a matrix of cosine similarities.\n",
    "    \n",
    "    Args:\n",
    "        X: sparse matrix of TFIDF scores or term frequencies\n",
    "    \n",
    "    Returns:\n",
    "        M: dense numpy array of all pairwise cosine similarities.  That is, the \n",
    "           entry M[i,j], should correspond to the cosine similarity between the \n",
    "           ith and jth rows of X.\n",
    "    \"\"\"\n",
    "    docNum = X.shape[0]\n",
    "    a = numpy.zeros(shape=(docNum,docNum))\n",
    "    for ii in xrange(docNum):\n",
    "        for jj in xrange(docNum):\n",
    "            i = X.getrow(ii)\n",
    "            j = X.getrow(jj)\n",
    "            a[ii][jj]=i.multiply(j).sum()/(math.sqrt(i.multiply(i).sum())*(math.sqrt(j.multiply(j).sum())))\n",
    "            #print i.multiply(i)\n",
    "            #print i.sum()\n",
    "            #print (math.sqrt(i.multiply(i).sum())*(math.sqrt(j.multiply(j).sum())))\n",
    "    return a\n",
    "    pass"
   ]
  },
  {
   "cell_type": "code",
   "execution_count": 69,
   "metadata": {
    "collapsed": false
   },
   "outputs": [
    {
     "name": "stdout",
     "output_type": "stream",
     "text": [
      "[[ 1.          0.06796739  0.07771876]\n",
      " [ 0.06796739  1.          0.10281225]\n",
      " [ 0.07771876  0.10281225  1.        ]]\n"
     ]
    }
   ],
   "source": [
    "#print cosine_similarity(X_tfidf)"
   ]
  },
  {
   "cell_type": "markdown",
   "metadata": {},
   "source": [
    "If you apply this function to the example from class:\n",
    "\n",
    "    M = cosine_similarity(X_tfidf)\n",
    "    \n",
    "we get the result presented in the slides:\n",
    "\n",
    "    [[ 1.          0.06796739  0.07771876]\n",
    "     [ 0.06796739  1.          0.10281225]\n",
    "     [ 0.07771876  0.10281225  1.        ]]"
   ]
  },
  {
   "cell_type": "markdown",
   "metadata": {},
   "source": [
    "Finally, use this model to analyze potential authorship of the unknown Federalist Papers.  Specifically, compute the average cosine similarity between all the _known_ Hamilton papers and all the _unknown_ papers (and similarly between known Madison and unknown, and Jay and unknown).  Populate the following variables with these averages.  As a quick check, our value for the `jay_mean_cosine_similarity` (and we know definitively that the unknown papers were _not_ written by Jay), is 0.064939."
   ]
  },
  {
   "cell_type": "code",
   "execution_count": null,
   "metadata": {
    "collapsed": true
   },
   "outputs": [],
   "source": [
    "hamilton_mean_cosine_similarity = None \n",
    "madison_mean_cosine_similarity = None\n",
    "jay_mean_cosine_similarity = None"
   ]
  },
  {
   "cell_type": "code",
   "execution_count": null,
   "metadata": {
    "collapsed": false
   },
   "outputs": [],
   "source": []
  },
  {
   "cell_type": "markdown",
   "metadata": {},
   "source": [
    "## Q2: N-gram language models [0+10+13pts]"
   ]
  },
  {
   "cell_type": "markdown",
   "metadata": {},
   "source": [
    "In this question, you will implement an n-gram model to be able to model the language used in the Federalist Papers in a more structured manner than the simple bag of words approach.  You will fill in the following class:"
   ]
  },
  {
   "cell_type": "code",
   "execution_count": 4,
   "metadata": {
    "collapsed": false
   },
   "outputs": [
    {
     "data": {
      "text/plain": [
       "'such regulations , on the score of usurpation cannot be safely placed , of connecticut or great britain it is warrantable to apprehend danger from the difference in the senate to his complaisance for those who are concerned to the quantity and extent of the press shall be convicted of treason shall'"
      ]
     },
     "execution_count": 4,
     "metadata": {},
     "output_type": "execute_result"
    }
   ],
   "source": [
    "import math\n",
    "class LanguageModel:\n",
    "    def __init__(self, docs, n):\n",
    "        \"\"\"\n",
    "        Initialize an n-gram language model.\n",
    "        \n",
    "        Args:\n",
    "            docs: list of strings, where each string represents a space-separated\n",
    "                  document\n",
    "            n: integer, degree of n-gram model\n",
    "        \"\"\"\n",
    "        self.n = n\n",
    "        self.counts={}\n",
    "        self.count_sums={}\n",
    "        self.words =  set()\n",
    "        for doc in docs:\n",
    "            doc = doc.split(\" \")\n",
    "            wordsDoc = set(doc)\n",
    "            self.words = self.words.union(wordsDoc)\n",
    "            for i in xrange(n-1,len(doc)):\n",
    "                prefix = ' '.join(doc[i-n+1:i])\n",
    "                if prefix not in self.counts:\n",
    "                    self.counts[prefix]={}\n",
    "                    self.counts[prefix][doc[i]]=1\n",
    "                    self.count_sums[prefix]=1\n",
    "                else:\n",
    "                    self.count_sums[prefix]+=1\n",
    "                    if doc[i] not in self.counts[prefix]:\n",
    "                        self.counts[prefix][doc[i]]=1\n",
    "                        \n",
    "                    else:\n",
    "                        self.counts[prefix][doc[i]]+=1\n",
    "                index = i\n",
    "\n",
    "            \n",
    "        #print len(self.words)\n",
    "        pass\n",
    "    \n",
    "    def perplexity(self, text, alpha=1e-3):\n",
    "        \"\"\"\n",
    "        Evaluate perplexity of model on some text.\n",
    "        \n",
    "        Args:\n",
    "            text: string containing space-separated words, on which to compute\n",
    "            alpha: constant to use in Laplace smoothing\n",
    "            \n",
    "        Note: for the purposes of smoothing, the dictionary size (i.e, the D term)\n",
    "        should be equal to the total number of unique words used to build the model\n",
    "        _and_ in the input text to this function.\n",
    "            \n",
    "        Returns: perplexity\n",
    "            perplexity: floating point value, perplexity of the text as evaluted\n",
    "                        under the model.\n",
    "        \"\"\"\n",
    "        sumLog = 0\n",
    "        n =self.n\n",
    "        text = text.split(\" \")\n",
    "        N = len(text)\n",
    "        wordSet = set(text)\n",
    "        D = len(self.words.union(wordSet))\n",
    "        #print D\n",
    "        for i in xrange(n-1,N):\n",
    "            prefix = ' '.join(text[i-n+1:i])\n",
    "            #print\n",
    "            #D = len(self.counts[prefix])\n",
    "            if prefix in self.counts:\n",
    "                if text[i] in self.counts[prefix]:\n",
    "                    prob = (self.counts[prefix][text[i]]+alpha)/(self.count_sums[prefix]+alpha*D)\n",
    "                else:\n",
    "                    prob = (alpha)/(self.count_sums[prefix]+alpha*D)\n",
    "            else:\n",
    "                prob = (alpha)/(alpha*D)\n",
    "            #print prob\n",
    "            sumLog+= math.log(prob,2)\n",
    "        return math.pow(2,-sumLog/(N-n+1))\n",
    "        pass\n",
    "        \n",
    "    def sample(self, k):\n",
    "        \"\"\"\n",
    "        Generate a random sample of k words.\n",
    "        \n",
    "        Args:\n",
    "            k: integer, indicating the number of words to sample\n",
    "            \n",
    "        Returns: text\n",
    "            text: string of words generated from the model.\n",
    "        \"\"\"\n",
    "        import random\n",
    "        #print self.count_sums\n",
    "        #s = ''.join(k*v for k,v in self.count_sums.items())\n",
    "        txt =''\n",
    "        prefix = random.choice([j for j in self.count_sums for x in xrange(self.count_sums[j])])\n",
    "        #print prefix\n",
    "        #print self.counts[prefix]\n",
    "        txt+=prefix\n",
    "        #print k\n",
    "        for i in xrange(int(k)):\n",
    "            if prefix in self.counts:\n",
    "                newWord = random.choice([j for j in self.counts[prefix] for x in xrange(self.counts[prefix][j])])\n",
    "                txt+=' '+newWord\n",
    "                prefix =\" \".join(prefix.split(\" \")[1:]) +' '+newWord\n",
    "            else:\n",
    "                prefix = random.choice([j for j in self.count_sums for x in xrange(self.count_sums[j])])\n",
    "                txt+=' '+prefix\n",
    "        #print self.counts.iterkeys().next() \n",
    "        #for i in xrange()\n",
    "        #print txt\n",
    "        #print len(txt)\n",
    "        return txt\n",
    "        pass\n",
    "### AUTOLAB_IGNORE_START\n",
    "data = [\n",
    "    \"the goal of this lecture is to explain the basics of free text processing\",\n",
    "    \"the bag of words model is one such approach\",\n",
    "    \"text processing via bag of words\"\n",
    "]\n",
    "#LanguageModel(data,3).count_sums\n",
    "\n",
    "l =LanguageModel(l_hanmilton,3)\n",
    "l.sample(50)\n",
    "#l.counts[\"privilege of\"]\n",
    "# print l.counts[\"of the\"]\n",
    "# print l.perplexity(papers[0])\n",
    "### AUTOLAB_IGNORE_STOP"
   ]
  },
  {
   "cell_type": "code",
   "execution_count": 24,
   "metadata": {
    "collapsed": false
   },
   "outputs": [
    {
     "name": "stdout",
     "output_type": "stream",
     "text": [
      "important a\n",
      "50\n",
      "important a support , till they arrive to such a majority in the other of them . though it does not follow that the advantage of permanency far less probable that , pursuant to the essentiality of the meditated preference ? are not sufficiently definite to preclude standing armies and the hazard\n"
     ]
    }
   ],
   "source": []
  },
  {
   "cell_type": "markdown",
   "metadata": {},
   "source": [
    "### Part A: Initializing the language model\n",
    "\n",
    "First, implement the `__init__()` function in the `LanguageModel` class.  You can store the information any way you want, but we did this by building a two-level dictionary (in fact, we used the `collections.defaultdict` class, but this only make a few things a little bit shorter ... you are free to use it or not) `self.counts`, where the first key refers to the previous $n-1$ tokens, and the second key refers to the $n$th token, and the value simply stores the count of the number of times this combination was seen.  For ease of use in later function, we also created a `self.count_sums`, which contained the number of total times each $n-1$ combination was seen.\n",
    "\n",
    "For example, letting `l_hamilton` be a LanguageModel object built just from all the known Hamilton papers and with `n = 3`, the following varibles are populated in the object:\n",
    "\n",
    "    l_hamilton.counts[\"privilege of\"] = {'being': 1, 'originating': 1, 'paying': 1, 'the': 1}\n",
    "    l_hamilton.count_sums[\"privilege of\"] = 4\n",
    "    \n",
    "We also build a `self.dictionary` variable, which is just a `set` object containing all the unique words in across the entire set of input document."
   ]
  },
  {
   "cell_type": "markdown",
   "metadata": {},
   "source": [
    "### Part B: Computing perplexity\n",
    "\n",
    "Next, implement the `perplexity()` function, which takes a text sample and computes the perplexity of this sample under the model.  Use the formula for perplexity from the class nodes (which is actually not exact, since it only so, being careful to not multiply togther probabilites that get too small (hint: instead of taking the log of a large product, take the sum of the logs).\n",
    "\n",
    "You'll want to be careful about dictionary sizes when it comes to the Laplace smoothing term: make sure your dictionary size $D$ is equal to the total number of unique words that occur both in the original data used to build the language model _and_ in the text we are evaluating the perplexity of.\n",
    "\n",
    "As a simple example, if we build our `l_hamilton` model above (again, with `n=3`) and using default settings so that `alpha = 1e-3`, and run in on `papers[0]` (which was written by Hamilton), we get:\n",
    "\n",
    "    l_hamilton.perplexity(papers[0]) = 12.5877"
   ]
  },
  {
   "cell_type": "markdown",
   "metadata": {},
   "source": [
    "Using this model, evaluate the mean of the perplexity of the unknown Federalist papers for the language models from each of the three authors (again, using `n=3` and the default of `alpha=1e-3`).  Populate the following variables with the mean perplexities."
   ]
  },
  {
   "cell_type": "code",
   "execution_count": null,
   "metadata": {
    "collapsed": true
   },
   "outputs": [],
   "source": [
    "perp_hamilton = None\n",
    "perp_madison = None\n",
    "perp_jay = None"
   ]
  },
  {
   "cell_type": "code",
   "execution_count": null,
   "metadata": {
    "collapsed": false
   },
   "outputs": [],
   "source": []
  },
  {
   "cell_type": "markdown",
   "metadata": {},
   "source": [
    "### Part C: Generating text\n",
    "\n",
    "Finally, implement the `sample()` function to generate random samples of text.  Essentially, you want to pick some random starting $n-1$ tuples (you can do this any way you want), then sample according to the model.  Here you should _not_ use any Laplace smoothing, but just sample from the raw underlying counts.\n",
    "\n",
    "One potential failure case, since we're just using raw counts, is if we generate an n-gram that _only_ occurs at the very end of a document (and so has no following n-gram observed in the data).  In this happens, just generate a new random set of $n-1$ tuples, and continue generating.\n",
    "\n",
    "We'll be pretty lax in grading here: we're just going to be evaluating the perplexity of the generated text and make sure it's within some very loose bounds.  This is more for the fun of seeing some generated text than for actual concrete evaluation, since it's generating a random sample.  Here's what a sample of 200 words from our Hamilton model looks like (of course all random samples will be different). \n",
    "\n",
    "    'erroneous foundation . the authorities essential to the mercy of the body politic against these two legislatures coexisted for ages in two ways : either by actual possession of which , if it cease to regard the servile pliancy of the states which have a salutary and powerful means , by those who appoint them . they are rather a source of delinquency , it would enable the national situation , and consuls , judges of their own immediate aggrandizement ? would she not have been felt by those very maxims and councils which would be mutually questions of property ? and will he not only against the united netherlands with that which has been presumed . the censure attendant on bad measures among a multitude that might have been of a regular and effective system of civil polity had previously established in this state , but upon our neutrality . by thus circumscribing the plan of opposition , and the industrious habits of the trust committed to hands which could not be likely to do anything else . when will the time at which we might soar to a deed for conveying property of the people , were dreaded and detested'\n",
    "\n"
   ]
  },
  {
   "cell_type": "code",
   "execution_count": null,
   "metadata": {
    "collapsed": false
   },
   "outputs": [],
   "source": []
  },
  {
   "cell_type": "code",
   "execution_count": null,
   "metadata": {
    "collapsed": true
   },
   "outputs": [],
   "source": []
  }
 ],
 "metadata": {
  "kernelspec": {
   "display_name": "Python [Root]",
   "language": "python",
   "name": "Python [Root]"
  },
  "language_info": {
   "codemirror_mode": {
    "name": "ipython",
    "version": 2
   },
   "file_extension": ".py",
   "mimetype": "text/x-python",
   "name": "python",
   "nbconvert_exporter": "python",
   "pygments_lexer": "ipython2",
   "version": "2.7.12"
  }
 },
 "nbformat": 4,
 "nbformat_minor": 1
}
